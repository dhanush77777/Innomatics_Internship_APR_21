{
 "cells": [
  {
   "cell_type": "code",
   "execution_count": 4,
   "metadata": {},
   "outputs": [
    {
     "name": "stdout",
     "output_type": "stream",
     "text": [
      "10\n",
      "10\n",
      " 45° \n"
     ]
    }
   ],
   "source": [
    "##question1\n",
    "from math import *\n",
    "print( \" %.0f° \" % degrees(atan2(float(input()), float(input()))))\n"
   ]
  },
  {
   "cell_type": "code",
   "execution_count": 1,
   "metadata": {},
   "outputs": [
    {
     "name": "stdout",
     "output_type": "stream",
     "text": [
      "1+2j\n",
      "2.23606797749979\n",
      "1.1071487177940904\n"
     ]
    }
   ],
   "source": [
    "##question2\n",
    "a=complex(input())\n",
    "import cmath\n",
    "print(abs(a))\n",
    "print(cmath.phase(complex(a)))"
   ]
  },
  {
   "cell_type": "code",
   "execution_count": 23,
   "metadata": {},
   "outputs": [
    {
     "name": "stdout",
     "output_type": "stream",
     "text": [
      "4\n",
      "1.234567901234568\n",
      "123.45679012345678\n",
      "12345.67901234568\n",
      "1234567.9012345679\n"
     ]
    }
   ],
   "source": [
    "##question3\n",
    "import math\n",
    "for i in range(1,int(input())+1):\n",
    "    j= pow ( (pow(10,i)/9),2 )\n",
    "    print (j)"
   ]
  },
  {
   "cell_type": "code",
   "execution_count": 26,
   "metadata": {},
   "outputs": [
    {
     "name": "stdout",
     "output_type": "stream",
     "text": [
      "3\n",
      "2\n",
      "1\n",
      "1\n",
      "(1, 1)\n"
     ]
    }
   ],
   "source": [
    "##question4\n",
    "a=int(input())\n",
    "b=int(input())\n",
    "print(a//b)\n",
    "print(a%b)\n",
    "c=divmod(a, b)\n",
    "print(c)\n"
   ]
  },
  {
   "cell_type": "code",
   "execution_count": null,
   "metadata": {},
   "outputs": [],
   "source": [
    "#question5\n",
    "a=int(input())\n",
    "b=int(input())\n",
    "m=int(input())\n",
    "\n",
    "print(pow(a,b))\n",
    "print(pow(a,b,m))\n"
   ]
  },
  {
   "cell_type": "code",
   "execution_count": 30,
   "metadata": {},
   "outputs": [
    {
     "name": "stdout",
     "output_type": "stream",
     "text": [
      "9\n",
      "29\n",
      "7\n",
      "27\n",
      "4710194409608608369201743232\n"
     ]
    }
   ],
   "source": [
    "#question6\n",
    "a=int(input())\n",
    "b=int(input())\n",
    "c=int(input())\n",
    "d=int(input())\n",
    "\n",
    "print(a**b+c**d)"
   ]
  },
  {
   "cell_type": "code",
   "execution_count": 32,
   "metadata": {},
   "outputs": [
    {
     "name": "stdout",
     "output_type": "stream",
     "text": [
      "5\n",
      "1\n",
      "22\n",
      "333\n",
      "4444\n"
     ]
    }
   ],
   "source": [
    "#question7\n",
    "for i in range(1,int(input())): \n",
    "    print((10**(i)//9)*i)\n"
   ]
  },
  {
   "cell_type": "code",
   "execution_count": null,
   "metadata": {},
   "outputs": [],
   "source": []
  }
 ],
 "metadata": {
  "kernelspec": {
   "display_name": "Python 3",
   "language": "python",
   "name": "python3"
  },
  "language_info": {
   "codemirror_mode": {
    "name": "ipython",
    "version": 3
   },
   "file_extension": ".py",
   "mimetype": "text/x-python",
   "name": "python",
   "nbconvert_exporter": "python",
   "pygments_lexer": "ipython3",
   "version": "3.7.7"
  }
 },
 "nbformat": 4,
 "nbformat_minor": 4
}
