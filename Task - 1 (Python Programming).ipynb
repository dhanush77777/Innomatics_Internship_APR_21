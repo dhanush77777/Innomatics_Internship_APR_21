{
 "cells": [
  {
   "cell_type": "code",
   "execution_count": 2,
   "metadata": {},
   "outputs": [
    {
     "name": "stdout",
     "output_type": "stream",
     "text": [
      "Hello, World!\n"
     ]
    }
   ],
   "source": [
    "#question 1\n",
    "#sol\n",
    "print (\"Hello, World!\")"
   ]
  },
  {
   "cell_type": "code",
   "execution_count": 5,
   "metadata": {},
   "outputs": [
    {
     "name": "stdout",
     "output_type": "stream",
     "text": [
      "5\n",
      "Weird\n"
     ]
    }
   ],
   "source": [
    "#question 2\n",
    "#sol\n",
    "n = int(input())\n",
    "if n % 2 == 1:\n",
    "    print (\"Weird\")\n",
    "elif n % 2 == 0 and 2 <= n <= 5:\n",
    "    print (\"Not Weird\")\n",
    "elif n % 2 == 0 and 6 <= n <= 20:\n",
    "    print (\"Weird\")\n",
    "else:\n",
    "    print (\"Not Weird\")"
   ]
  },
  {
   "cell_type": "code",
   "execution_count": 7,
   "metadata": {},
   "outputs": [
    {
     "name": "stdout",
     "output_type": "stream",
     "text": [
      "2\n",
      "3\n",
      "5\n",
      "-1\n",
      "6\n"
     ]
    }
   ],
   "source": [
    "#question3 \n",
    "#sol\n",
    "a = int(input())\n",
    "b = int(input())\n",
    "print (a + b)\n",
    "print (a - b)\n",
    "print (a * b)"
   ]
  },
  {
   "cell_type": "code",
   "execution_count": 8,
   "metadata": {},
   "outputs": [
    {
     "name": "stdout",
     "output_type": "stream",
     "text": [
      "3\n",
      "4\n",
      "0\n",
      "0.75\n"
     ]
    }
   ],
   "source": [
    "#question4\n",
    "#sol\n",
    "a = int(input())\n",
    "b = int(input())\n",
    "print(a // b)\n",
    "print(a / b)"
   ]
  },
  {
   "cell_type": "code",
   "execution_count": 10,
   "metadata": {},
   "outputs": [
    {
     "name": "stdout",
     "output_type": "stream",
     "text": [
      "3\n",
      "0\n",
      "1\n",
      "4\n"
     ]
    }
   ],
   "source": [
    "#question5\n",
    "#sol\n",
    "for i in range(int(input())):\n",
    "    print (i**2)"
   ]
  },
  {
   "cell_type": "code",
   "execution_count": 13,
   "metadata": {},
   "outputs": [
    {
     "name": "stdout",
     "output_type": "stream",
     "text": [
      "2000\n",
      "True\n"
     ]
    }
   ],
   "source": [
    "#question6\n",
    "#sol\n",
    "def is_leap(year):\n",
    "    if year % 400 == 0:\n",
    "        return True\n",
    "    if year % 100 == 0:\n",
    "        return False\n",
    "    if year % 4 == 0:\n",
    "        return True\n",
    "    return False\n",
    "year = int(input())\n",
    "print (is_leap(year))"
   ]
  },
  {
   "cell_type": "code",
   "execution_count": 14,
   "metadata": {},
   "outputs": [
    {
     "name": "stdout",
     "output_type": "stream",
     "text": [
      "2\n",
      "12\n"
     ]
    }
   ],
   "source": [
    "#question7\n",
    "#sol\n",
    "print(*range(1, int(input()) + 1), sep=\"\")  "
   ]
  },
  {
   "cell_type": "code",
   "execution_count": null,
   "metadata": {},
   "outputs": [],
   "source": []
  }
 ],
 "metadata": {
  "kernelspec": {
   "display_name": "Python 3",
   "language": "python",
   "name": "python3"
  },
  "language_info": {
   "codemirror_mode": {
    "name": "ipython",
    "version": 3
   },
   "file_extension": ".py",
   "mimetype": "text/x-python",
   "name": "python",
   "nbconvert_exporter": "python",
   "pygments_lexer": "ipython3",
   "version": "3.7.7"
  }
 },
 "nbformat": 4,
 "nbformat_minor": 4
}
